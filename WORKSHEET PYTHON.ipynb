{
 "cells": [
  {
   "cell_type": "markdown",
   "id": "bad86bf4",
   "metadata": {},
   "source": [
    "# PYTHON WORKSHEET"
   ]
  },
  {
   "cell_type": "markdown",
   "id": "57db0d74",
   "metadata": {},
   "source": [
    "# 1)option c\n",
    "# 2)option b \n",
    "# 3)option c\n",
    "# 4)option a\n",
    "# 5)option d\n",
    "# 6)option c\n",
    "# 7)option a\n",
    "# 8)option c\n",
    "# 9)option c and option b\n",
    "# 10)option a and option b"
   ]
  },
  {
   "cell_type": "markdown",
   "id": "1b0776da",
   "metadata": {},
   "source": [
    "# 11) FACTORIAL OF A NUMBER:"
   ]
  },
  {
   "cell_type": "code",
   "execution_count": 1,
   "id": "18ee2b8d",
   "metadata": {},
   "outputs": [
    {
     "name": "stdout",
     "output_type": "stream",
     "text": [
      "Enter a number: 4\n",
      "The factorial of 4 is 24\n"
     ]
    }
   ],
   "source": [
    "num = int(input(\"Enter a number: \")) # GETTING THE INPUT FROM THE USER\n",
    "factorial = 1 #INITIALIZING THE FACTORIAL VALUE TO 1\n",
    "\n",
    "if num < 0: # CHECKING IS THE GIVEN VALUE IS 0 OR LESS THAT ZERO AS FACTORIAL VALUES DOESNT ACCEPT NEGATIVE VALUES\n",
    "    print(\"Factorial is not defined for negative numbers\")\n",
    "elif num == 0: # FACTORILA OF 0 IS 1\n",
    "    print(\"The factorial of 0 is 1\")\n",
    "else: # IF THE GIVEN VALUES IS NEITHER 0 OR NEGATIVE VALUE THE LOOP WILL START TO CALCULATE THE FACTORIAL\n",
    "    for i in range(1, num + 1): \n",
    "        factorial *= i\n",
    "    print(\"The factorial of\", num, \"is\", factorial)"
   ]
  },
  {
   "cell_type": "markdown",
   "id": "aa938524",
   "metadata": {},
   "source": [
    "# 12) PRIME OR COMPOSITE"
   ]
  },
  {
   "cell_type": "code",
   "execution_count": 2,
   "id": "9c7fcb4e",
   "metadata": {},
   "outputs": [
    {
     "name": "stdout",
     "output_type": "stream",
     "text": [
      "Enter a number: 5\n",
      "5 is prime\n"
     ]
    }
   ],
   "source": [
    "num = int(input(\"Enter a number: \")) #GETTING INPUT NUMBER FROM THE USER\n",
    "if num > 1: # CHECKING IF THE NUMBER IS GREATER \n",
    "    for i in range(2, num): # STARTING WITH THE LOOP 2\n",
    "        if (num % i) == 0: # WE CHECK IF THE REMINDER OF THE DIVISION OF NUM BY I IS 0 \n",
    "            print(num, \"is composite\") #IT IS COMPOSITE\n",
    "            break\n",
    "    else:\n",
    "        print(num, \"is prime\") # ELSE ITS PRIME \n",
    "else:\n",
    "    print(num, \"is not prime or composite\")"
   ]
  },
  {
   "cell_type": "markdown",
   "id": "53520125",
   "metadata": {},
   "source": [
    "# 13) PALINDROME OR NOT"
   ]
  },
  {
   "cell_type": "code",
   "execution_count": 3,
   "id": "35d04cae",
   "metadata": {},
   "outputs": [
    {
     "name": "stdout",
     "output_type": "stream",
     "text": [
      "Enter a string: nan\n",
      "The string is a palindrome\n"
     ]
    }
   ],
   "source": [
    "string = input(\"Enter a string: \") #WE GET THE INPUT STRING FROM THE USER\n",
    "string = string.replace(\" \", \"\").lower()# REMOVE ALL THE SPACE AND CONVERT TO LOWERCASE\n",
    "if string == string[::-1]: # CHECK IF THE REVERSED STRING IS EQUAL TO THE ORGINAL STRING\n",
    "    print(\"The string is a palindrome\")\n",
    "else:\n",
    "    print(\"The string is not a palindrome\")"
   ]
  },
  {
   "cell_type": "code",
   "execution_count": 5,
   "id": "3bec8e69",
   "metadata": {},
   "outputs": [
    {
     "name": "stdout",
     "output_type": "stream",
     "text": [
      "Enter a string: mother\n",
      "The string is not a palindrome\n"
     ]
    }
   ],
   "source": [
    "string = input(\"Enter a string: \")\n",
    "string = string.replace(\" \", \"\").lower()\n",
    "if string == string[::-1]:\n",
    "    print(\"The string is a palindrome\")\n",
    "else:\n",
    "    print(\"The string is not a palindrome\")"
   ]
  },
  {
   "cell_type": "markdown",
   "id": "479da0b3",
   "metadata": {},
   "source": [
    "# 14) TO GET THE THIRD SIDE OF RIGHT ANGLED TRIANGLE FROM TWO GIVEN SIDES"
   ]
  },
  {
   "cell_type": "code",
   "execution_count": 6,
   "id": "69996957",
   "metadata": {
    "scrolled": true
   },
   "outputs": [
    {
     "name": "stdout",
     "output_type": "stream",
     "text": [
      "Enter the length of side a: 2.4\n",
      "Enter the length of side b: 4.6\n",
      "The length of the third side of right angled triangle is: 5.188448708429139\n"
     ]
    }
   ],
   "source": [
    "import math\n",
    "a = float(input(\"Enter the length of side a: \"))# Get the length of the two sides from the user\n",
    "b = float(input(\"Enter the length of side b: \"))\n",
    "c = math.sqrt(a**2 + b**2) # calculating the third side of the right angled triangle \n",
    "\n",
    "print(\"The length of the third side of right angled triangle is:\", c)"
   ]
  },
  {
   "cell_type": "markdown",
   "id": "0e427f51",
   "metadata": {},
   "source": [
    "# 15) Python program to print the frequency of each character present in a given string"
   ]
  },
  {
   "cell_type": "code",
   "execution_count": 8,
   "id": "9de0de23",
   "metadata": {},
   "outputs": [
    {
     "name": "stdout",
     "output_type": "stream",
     "text": [
      "Enter a string: karnataka\n",
      "Character frequencies:\n",
      "k : 2\n",
      "a : 4\n",
      "r : 1\n",
      "n : 1\n",
      "t : 1\n"
     ]
    }
   ],
   "source": [
    "string = input(\"Enter a string: \")\n",
    "char_freq = {}# DEFINING AN EMPTY DICTIONARY TO STORE THE CHARACTER \n",
    "for char in string: #ITERATE OVER EACH CHARACTER IN STRING\n",
    "    if char in char_freq: # IF CHARACTER IS ALREADY IN THE DICTIONARY IT INCREMENTS ITS FREQUENCY \n",
    "        char_freq[char] += 1 # OTHERWISE ADD WITH A FREQUENCY OF 1\n",
    "    else:\n",
    "        char_freq[char] = 1\n",
    "print(\"Character frequencies:\")\n",
    "for char, freq in char_freq.items():\n",
    "    print(char, \":\", freq)"
   ]
  },
  {
   "cell_type": "code",
   "execution_count": null,
   "id": "684782d9",
   "metadata": {},
   "outputs": [],
   "source": []
  }
 ],
 "metadata": {
  "kernelspec": {
   "display_name": "Python 3 (ipykernel)",
   "language": "python",
   "name": "python3"
  },
  "language_info": {
   "codemirror_mode": {
    "name": "ipython",
    "version": 3
   },
   "file_extension": ".py",
   "mimetype": "text/x-python",
   "name": "python",
   "nbconvert_exporter": "python",
   "pygments_lexer": "ipython3",
   "version": "3.9.13"
  }
 },
 "nbformat": 4,
 "nbformat_minor": 5
}
